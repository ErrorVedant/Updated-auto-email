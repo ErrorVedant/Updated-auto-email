{
 "cells": [
  {
   "cell_type": "code",
   "execution_count": null,
   "metadata": {},
   "outputs": [],
   "source": [
    "pip install pandas"
   ]
  },
  {
   "cell_type": "code",
   "execution_count": 12,
   "metadata": {},
   "outputs": [
    {
     "name": "stdout",
     "output_type": "stream",
     "text": [
      "Requirement already satisfied: schedule in c:\\users\\vedan\\appdata\\local\\programs\\python\\python311\\lib\\site-packages (1.2.2)\n",
      "Note: you may need to restart the kernel to use updated packages.\n"
     ]
    }
   ],
   "source": [
    "pip install schedule"
   ]
  },
  {
   "cell_type": "code",
   "execution_count": 3,
   "metadata": {},
   "outputs": [
    {
     "name": "stdout",
     "output_type": "stream",
     "text": [
      "Email sent to vedantk065@gmail.com\n",
      "Email sent to sharmaharsheel@gmail.com\n",
      "Email sent to pulkit30105@gmail.com\n"
     ]
    }
   ],
   "source": [
    "import smtplib\n",
    "import pandas as pd\n",
    "from email.mime.multipart import MIMEMultipart\n",
    "from email.mime.text import MIMEText\n",
    "\n",
    "# Email account credentials\n",
    "SMTP_SERVER = 'smtp.hostinger.com'\n",
    "SMTP_PORT = 465  # SSL Port for Hostinger\n",
    "EMAIL_ADDRESS = \"core@djsceacm.com\"  # Sender email address\n",
    "PASSWORD = \"#ACM@core2024\"\n",
    "SUBJECTS = 'Greetings From DJS ACM - LOC Hackathon'\n",
    "\n",
    "def send_emails(csv_file):\n",
    "    # Load contacts from CSV file\n",
    "    contacts = pd.read_csv(csv_file)\n",
    "    \n",
    "    # Set up the server with SSL and log in\n",
    "    try:\n",
    "        server = smtplib.SMTP_SSL(SMTP_SERVER, SMTP_PORT)\n",
    "        server.login(EMAIL_ADDRESS, PASSWORD)\n",
    "    except smtplib.SMTPAuthenticationError:\n",
    "        print(\"Authentication failed. Please check your email and password.\")\n",
    "        return\n",
    "    except Exception as e:\n",
    "        print(f\"Failed to connect to the SMTP server: {e}\")\n",
    "        return\n",
    "    \n",
    "    for index, row in contacts.iterrows():\n",
    "        recipient_email = row['email']\n",
    "        alumnus_name = row['name']  # Assuming the CSV has a column named 'name'\n",
    "        \n",
    "        # Compose email content\n",
    "        email_content = f\"\"\"\n",
    "        Dear {alumnus_name},\n",
    "\n",
    "        I hope this message finds you well and thriving in your endeavors. As a proud member of our esteemed alumni community, your journey and accomplishments continue to inspire our current students and contribute to the rich legacy of Dwarkadas J. Sanghvi COE.\n",
    "\n",
    "        As we continue building a dynamic and forward-thinking learning environment at DJ Sanghvi, we're thrilled to announce the upcoming hackathon, Lines of Code 7.0 (LOC), designed to tackle a wide array of real-world problem statements.  \n",
    "\n",
    "        To make this event as impactful as possible, we are reaching out to our esteemed alumni network for support. Your expertise and experience would be invaluable in helping us shape the problem statements for LOC and providing insights that resonate with current industry trends. Additionally, if there is any way you or your organization might be able to support the event—whether through mentorship, resources, or even financial contributions—we would be immensely grateful.\n",
    "\n",
    "        Any support you can extend, either directly or through your company, would contribute significantly to the success of LOC and the learning journey of our students. Please let us know if this is something you would be interested in, and we can set up a time to discuss further.\n",
    "\n",
    "        Thank you for considering this opportunity to make a difference in our students' lives. We look forward to the possibility of partnering with you to make LOC a success.\n",
    "\n",
    "        Warm regards,\n",
    "        DJS ACM\n",
    "        Contact: +91 8237599879\n",
    "        \"\"\"\n",
    "        \n",
    "        # Email message setup\n",
    "        message = MIMEMultipart()\n",
    "        message['From'] = EMAIL_ADDRESS\n",
    "        message['To'] = recipient_email\n",
    "        message['Subject'] = SUBJECTS\n",
    "        message.attach(MIMEText(email_content, 'plain'))\n",
    "        \n",
    "        try:\n",
    "            # Send email\n",
    "            server.sendmail(EMAIL_ADDRESS, recipient_email, message.as_string())\n",
    "            print(f\"Email sent to {recipient_email}\")\n",
    "        except Exception as e:\n",
    "            print(f\"Failed to send email to {recipient_email}: {e}\")\n",
    "    \n",
    "    # Close the server connection\n",
    "    server.quit()\n",
    "\n",
    "# Execute email sending function\n",
    "if __name__ == \"__main__\":\n",
    "    send_emails('contacts.csv')\n"
   ]
  }
 ],
 "metadata": {
  "kernelspec": {
   "display_name": "Python 3",
   "language": "python",
   "name": "python3"
  },
  "language_info": {
   "codemirror_mode": {
    "name": "ipython",
    "version": 3
   },
   "file_extension": ".py",
   "mimetype": "text/x-python",
   "name": "python",
   "nbconvert_exporter": "python",
   "pygments_lexer": "ipython3",
   "version": "3.11.5"
  }
 },
 "nbformat": 4,
 "nbformat_minor": 2
}
